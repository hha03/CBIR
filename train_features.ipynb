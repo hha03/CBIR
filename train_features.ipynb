{
 "cells": [
  {
   "cell_type": "markdown",
   "metadata": {},
   "source": [
    "# **List image valid**"
   ]
  },
  {
   "cell_type": "code",
   "execution_count": 1,
   "metadata": {},
   "outputs": [],
   "source": [
    "import os\n",
    "from PIL import Image\n",
    "\n",
    "data_dir = r'data\\images'\n",
    "\n",
    "invalid_images = []\n",
    "\n",
    "# Lặp qua tất cả các tệp trong thư mục dữ liệu\n",
    "for root, dirs, files in os.walk(data_dir):\n",
    "    for file in files:\n",
    "        file_path = os.path.join(root, file)\n",
    "        try:\n",
    "            # Mở và kiểm tra hình ảnh\n",
    "            img = Image.open(file_path)\n",
    "            img.verify()  # Kiểm tra tính hợp lệ của hình ảnh\n",
    "        except (IOError, SyntaxError) as e:\n",
    "            # Nếu có lỗi, thêm tệp không hợp lệ vào danh sách\n",
    "            print('Invalid file:', file_path)\n",
    "            invalid_images.append(file_path)"
   ]
  },
  {
   "cell_type": "code",
   "execution_count": 2,
   "metadata": {},
   "outputs": [
    {
     "data": {
      "text/plain": [
       "10500"
      ]
     },
     "execution_count": 2,
     "metadata": {},
     "output_type": "execute_result"
    }
   ],
   "source": [
    "# Tạo danh sách các tệp hợp lệ từ tất cả các tệp\n",
    "list_images = []\n",
    "for root, dirs, files in os.walk(data_dir):\n",
    "    dirs.sort()\n",
    "    files.sort()\n",
    "    for file in files:\n",
    "        file_path = os.path.join(root, file)\n",
    "        if file_path not in invalid_images:\n",
    "            list_images.append(file_path)\n",
    "# Số lượng ảnh trong tập dữ liệu\n",
    "len(list_images)"
   ]
  },
  {
   "cell_type": "code",
   "execution_count": 3,
   "metadata": {},
   "outputs": [],
   "source": [
    "import numpy as np\n",
    "import pandas as pd\n",
    "from tensorflow.keras.preprocessing.image import DirectoryIterator\n",
    "import os\n",
    "from tensorflow.keras.applications import ResNet50\n",
    "from tensorflow.keras.preprocessing.image import ImageDataGenerator\n",
    "from sklearn.neighbors import KNeighborsClassifier\n",
    "from sklearn.metrics.pairwise import cosine_similarity\n",
    "from keras.applications.resnet50 import preprocess_input\n",
    "from keras.preprocessing import image\n",
    "from sklearn.neighbors import NearestNeighbors\n",
    "import matplotlib.pyplot as plt\n",
    "import matplotlib.image as mpimg\n",
    "import pickle"
   ]
  },
  {
   "cell_type": "markdown",
   "metadata": {},
   "source": [
    "# **Extract features**"
   ]
  },
  {
   "cell_type": "code",
   "execution_count": 4,
   "metadata": {},
   "outputs": [],
   "source": [
    "# Kích thước ảnh đầu vào 224x224\n",
    "img_width, img_height = 224,224\n",
    "\n",
    "# Khởi tạo mô hình ResNet50 và bỏ đi lớp fully connected (top layer)\n",
    "model = ResNet50(weights='imagenet', include_top=False, input_shape=(img_width, img_height, 3))"
   ]
  },
  {
   "cell_type": "code",
   "execution_count": 5,
   "metadata": {},
   "outputs": [],
   "source": [
    "# Trích xuất đặc trưng từ mô hình ResNet50\n",
    "def extract_features(image_path):\n",
    "    img = image.load_img(image_path, target_size=(img_width, img_height))\n",
    "    img_array = image.img_to_array(img)\n",
    "    img_array = np.expand_dims(img_array, axis=0)\n",
    "    img_array = preprocess_input(img_array)\n",
    "    features = model.predict(img_array, verbose=0)\n",
    "    return features.flatten()"
   ]
  },
  {
   "cell_type": "code",
   "execution_count": 6,
   "metadata": {},
   "outputs": [
    {
     "data": {
      "text/plain": [
       "(100352,)"
      ]
     },
     "execution_count": 6,
     "metadata": {},
     "output_type": "execute_result"
    }
   ],
   "source": [
    "feature = np.array(extract_features(list_images[0]))\n",
    "feature.shape"
   ]
  },
  {
   "cell_type": "code",
   "execution_count": 7,
   "metadata": {},
   "outputs": [
    {
     "data": {
      "text/plain": [
       "401408"
      ]
     },
     "execution_count": 7,
     "metadata": {},
     "output_type": "execute_result"
    }
   ],
   "source": [
    "element_size = feature.itemsize\n",
    "\n",
    "# Số lượng phần tử\n",
    "num_elements = feature.size\n",
    "\n",
    "# Tính kích thước bộ nhớ (bytes)\n",
    "num_elements * element_size"
   ]
  },
  {
   "cell_type": "markdown",
   "metadata": {},
   "source": [
    "# **Data Storage**"
   ]
  },
  {
   "cell_type": "code",
   "execution_count": 19,
   "metadata": {},
   "outputs": [],
   "source": [
    "import mysql.connector\n",
    "\n",
    "conn = mysql.connector.connect(\n",
    "    host=\"localhost\",\n",
    "      user=\"root\",\n",
    "      password=\"\",\n",
    "      database=\"food_img_search\"\n",
    "    )"
   ]
  },
  {
   "cell_type": "markdown",
   "metadata": {},
   "source": [
    "**Get ID food**"
   ]
  },
  {
   "cell_type": "code",
   "execution_count": 9,
   "metadata": {},
   "outputs": [],
   "source": [
    "def get_food_id(conn, food_name):\n",
    "    cursor = conn.cursor(buffered=True)\n",
    "    try:\n",
    "        query_select = \"SELECT id FROM food WHERE name LIKE %s COLLATE utf8_general_ci\"\n",
    "        cursor.execute(query_select, (f'%{food_name}%',))\n",
    "        result = cursor.fetchone()\n",
    "        if result:\n",
    "            return result[0]\n",
    "        else:\n",
    "            return None\n",
    "    except mysql.connector.Error as err:\n",
    "        print(f\"Error: {err}\")\n",
    "        return None"
   ]
  },
  {
   "cell_type": "markdown",
   "metadata": {},
   "source": [
    "**Get description**"
   ]
  },
  {
   "cell_type": "code",
   "execution_count": 10,
   "metadata": {},
   "outputs": [],
   "source": [
    "def get_description(img_path):\n",
    "    try:\n",
    "        file_name = os.path.basename(img_path)\n",
    "        name, _ = os.path.splitext(file_name)\n",
    "        name_parts = name.rsplit('_', 1)\n",
    "\n",
    "        name = name_parts[0]\n",
    "        no = int(name_parts[1])\n",
    "        csv_file = rf\"data\\urls\\{name}.csv\"\n",
    "        df = pd.read_csv(csv_file)\n",
    "        description = df.iloc[no - 1, 3]\n",
    "        description = description if pd.notna(description) else None\n",
    "        return description\n",
    "    except Exception as e:\n",
    "        print(f\"Error reading CSV file: {e}\")\n",
    "        return None"
   ]
  },
  {
   "cell_type": "markdown",
   "metadata": {},
   "source": [
    "**Store to db**"
   ]
  },
  {
   "cell_type": "code",
   "execution_count": 11,
   "metadata": {},
   "outputs": [],
   "source": [
    "def insert_image_data(conn, img_path):\n",
    "    file_name = os.path.basename(img_path)\n",
    "    name, _ = os.path.splitext(file_name)\n",
    "    name = name.rsplit('_', 1)[0]\n",
    "    food_name = name.replace('_', ' ')\n",
    "\n",
    "    food_id = get_food_id(conn, food_name)\n",
    "    cursor = conn.cursor(buffered=True)\n",
    "    \n",
    "    try:\n",
    "        if food_id is None:\n",
    "            # Thêm mới món ăn vào bảng food\n",
    "            query_insert = \"INSERT INTO food (name) VALUES (%s)\"\n",
    "            cursor.execute(query_insert, (food_name.title(),))\n",
    "            conn.commit()\n",
    "            \n",
    "            # Lấy ID của món ăn vừa thêm\n",
    "            food_id = cursor.lastrowid\n",
    "\n",
    "        # Lấy description từ file CSV\n",
    "        description = get_description(img_path)\n",
    "        feature_vector = np.array(extract_features(img_path))\n",
    "        feature_blob = pickle.dumps(feature_vector)\n",
    "        \n",
    "        # Chèn dữ liệu vào bảng test\n",
    "        query = \"\"\"\n",
    "        INSERT INTO food_imgs (food_name, label, img_path, description, feature)\n",
    "        VALUES (%s, %s, %s, %s, %s)\n",
    "        \"\"\"\n",
    "        values = (food_name, food_id, img_path, description, feature_blob)\n",
    "        cursor.execute(query, values)\n",
    "        conn.commit()\n",
    "    except Exception as e:\n",
    "        conn.rollback()\n",
    "        print(f\"Error: {e}\")\n",
    "    finally:\n",
    "        cursor.close()"
   ]
  },
  {
   "cell_type": "code",
   "execution_count": 12,
   "metadata": {},
   "outputs": [],
   "source": [
    "for image_path in list_images:\n",
    "    insert_image_data(conn,image_path)"
   ]
  },
  {
   "cell_type": "markdown",
   "metadata": {},
   "source": [
    "# *Update if change image, description,...*"
   ]
  },
  {
   "cell_type": "code",
   "execution_count": 33,
   "metadata": {},
   "outputs": [],
   "source": [
    "import mysql.connector\n",
    "def update_record(img_path):\n",
    "    conn = mysql.connector.connect(\n",
    "    host=\"localhost\",\n",
    "      user=\"root\",\n",
    "      password=\"\",\n",
    "      database=\"food_img_search\"\n",
    "    )\n",
    "    cursor = conn.cursor()\n",
    "\n",
    "    # Chuyển đổi feature vector thành blob\n",
    "    description = get_description(img_path)\n",
    "    new_vector = np.array(extract_features(img_path))\n",
    "    nfeature_blob = pickle.dumps(new_vector)\n",
    "\n",
    "    # Câu lệnh UPDATE để cập nhật chỉ các cột feature và description\n",
    "    query_update = \"\"\"\n",
    "    UPDATE food_imgs\n",
    "    SET feature = %s, description = %s\n",
    "    WHERE img_path = %s\n",
    "    \"\"\"\n",
    "    values = (nfeature_blob, description, img_path)\n",
    "    \n",
    "    # Thực thi câu lệnh UPDATE\n",
    "    cursor.execute(query_update, values)\n",
    "    \n",
    "    conn.commit()\n",
    "    cursor.close()\n",
    "\n",
    "update_record(r'data\\images\\foie_gras_28.jpg')\n"
   ]
  }
 ],
 "metadata": {
  "kernelspec": {
   "display_name": "Python 3",
   "language": "python",
   "name": "python3"
  },
  "language_info": {
   "codemirror_mode": {
    "name": "ipython",
    "version": 3
   },
   "file_extension": ".py",
   "mimetype": "text/x-python",
   "name": "python",
   "nbconvert_exporter": "python",
   "pygments_lexer": "ipython3",
   "version": "3.11.5"
  }
 },
 "nbformat": 4,
 "nbformat_minor": 2
}
