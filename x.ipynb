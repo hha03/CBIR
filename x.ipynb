{
 "cells": [
  {
   "cell_type": "code",
   "execution_count": 2,
   "metadata": {},
   "outputs": [],
   "source": [
    "import mysql.connector\n",
    "import numpy as np\n",
    "import pickle\n",
    "\n",
    "def get_db_connection():\n",
    "    conn = mysql.connector.connect(\n",
    "        host=\"localhost\",\n",
    "        user=\"root\",\n",
    "        password=\"\",\n",
    "        database=\"food_img_search\"\n",
    "    )\n",
    "    return conn"
   ]
  },
  {
   "cell_type": "code",
   "execution_count": 2,
   "metadata": {},
   "outputs": [
    {
     "name": "stdout",
     "output_type": "stream",
     "text": [
      "10500\n"
     ]
    }
   ],
   "source": [
    "def get_feature_vectors():\n",
    "    conn = get_db_connection()\n",
    "    cursor = conn.cursor()\n",
    "    query = \"\"\"SELECT id, feature FROM food_imgs\"\"\"\n",
    "    cursor.execute(query)\n",
    "    rows = cursor.fetchall()\n",
    "    \n",
    "    ids = []\n",
    "    feature_vectors = []\n",
    "    for row in rows:\n",
    "        id = row[0]\n",
    "        ids.append(id)\n",
    "        feature_blob = row[1]\n",
    "        feature_vector = pickle.loads(feature_blob)\n",
    "        feature_vectors.append(np.array(feature_vector))\n",
    "    \n",
    "    return ids,feature_vectors\n",
    "\n",
    "ids, features =get_feature_vectors()\n",
    "print(len(ids))"
   ]
  }
 ],
 "metadata": {
  "kernelspec": {
   "display_name": "Python 3",
   "language": "python",
   "name": "python3"
  },
  "language_info": {
   "codemirror_mode": {
    "name": "ipython",
    "version": 3
   },
   "file_extension": ".py",
   "mimetype": "text/x-python",
   "name": "python",
   "nbconvert_exporter": "python",
   "pygments_lexer": "ipython3",
   "version": "3.11.5"
  }
 },
 "nbformat": 4,
 "nbformat_minor": 2
}
